{
  "nbformat": 4,
  "nbformat_minor": 0,
  "metadata": {
    "colab": {
      "name": "01_pytorch_workflow_exercises.ipynb",
      "provenance": [],
      "include_colab_link": true
    },
    "kernelspec": {
      "name": "python3",
      "display_name": "Python 3"
    },
    "language_info": {
      "name": "python"
    },
    "accelerator": "GPU"
  },
  "cells": [
    {
      "cell_type": "markdown",
      "metadata": {
        "id": "view-in-github",
        "colab_type": "text"
      },
      "source": [
        "<a href=\"https://colab.research.google.com/github/diegoescribanog/pytorch-deep-learning/blob/main/extras/exercises/01_pytorch_workflow_exercises.ipynb\" target=\"_parent\"><img src=\"https://colab.research.google.com/assets/colab-badge.svg\" alt=\"Open In Colab\"/></a>"
      ]
    },
    {
      "cell_type": "markdown",
      "source": [
        "# 01. PyTorch Workflow Exercise Template\n",
        "\n",
        "The following is a template for the PyTorch workflow exercises.\n",
        "\n",
        "It's only starter code and it's your job to fill in the blanks.\n",
        "\n",
        "Because of the flexibility of PyTorch, there may be more than one way to answer the question.\n",
        "\n",
        "Don't worry about trying to be *right* just try writing code that suffices the question.\n",
        "\n",
        "You can see one form of [solutions on GitHub](https://github.com/mrdbourke/pytorch-deep-learning/tree/main/extras/solutions) (but try the exercises below yourself first!)."
      ],
      "metadata": {
        "id": "N8LsPXZti9Sw"
      }
    },
    {
      "cell_type": "code",
      "source": [
        "# Import necessary libraries\n",
        "import torch\n",
        "from torch import nn # nn contains all of PyTorch's building blocks for neural networks\n",
        "import matplotlib.pyplot as plt"
      ],
      "metadata": {
        "id": "Glu2fM4dkNlx"
      },
      "execution_count": 2,
      "outputs": []
    },
    {
      "cell_type": "code",
      "source": [
        "# Setup device-agnostic code\n",
        "device = \"cuda\" if torch.cuda.is_available() else \"cpu\"\n",
        "print(f\"Using device: {device}\")"
      ],
      "metadata": {
        "id": "LqKhXY26m31s",
        "outputId": "22ef15f4-877d-480c-9a76-7c80af2a6db6",
        "colab": {
          "base_uri": "https://localhost:8080/"
        }
      },
      "execution_count": 3,
      "outputs": [
        {
          "output_type": "stream",
          "name": "stdout",
          "text": [
            "Using device: cuda\n"
          ]
        }
      ]
    },
    {
      "cell_type": "markdown",
      "source": [
        "## 1. Create a straight line dataset using the linear regression formula (`weight * X + bias`).\n",
        "  * Set `weight=0.3` and `bias=0.9` there should be at least 100 datapoints total. \n",
        "  * Split the data into 80% training, 20% testing.\n",
        "  * Plot the training and testing data so it becomes visual.\n",
        "\n",
        "Your output of the below cell should look something like:\n",
        "```\n",
        "Number of X samples: 100\n",
        "Number of y samples: 100\n",
        "First 10 X & y samples:\n",
        "X: tensor([0.0000, 0.0100, 0.0200, 0.0300, 0.0400, 0.0500, 0.0600, 0.0700, 0.0800,\n",
        "        0.0900])\n",
        "y: tensor([0.9000, 0.9030, 0.9060, 0.9090, 0.9120, 0.9150, 0.9180, 0.9210, 0.9240,\n",
        "        0.9270])\n",
        "```\n",
        "\n",
        "Of course the numbers in `X` and `y` may be different but ideally they're created using the linear regression formula."
      ],
      "metadata": {
        "id": "g7HUhxCxjeBx"
      }
    },
    {
      "cell_type": "code",
      "source": [
        "# Create the data parameters\n",
        "# Create weight and bias\n",
        "weight = 0.3\n",
        "bias = 0.9\n",
        "\n",
        "# Create range values\n",
        "start = 0\n",
        "end = 1\n",
        "n_samples = 200\n",
        "step = 1/n_samples\n",
        "\n",
        "\n",
        "# Make X and y using linear regression feature\n",
        "# Create X and y (features and labels)\n",
        "X = torch.arange(start, end, step).unsqueeze(dim=1) # without unsqueeze, errors will happen later on (shapes within linear layers)\n",
        "y = weight * X + bias \n",
        "\n",
        "\n",
        "print(f\"Number of X samples: {len(X)}\")\n",
        "print(f\"Number of y samples: {len(y)}\")\n",
        "print(f\"First 10 X & y samples:\\nX: {X[:10]}\\ny: {y[:10]}\")"
      ],
      "metadata": {
        "id": "KbDG5MV7jhvE",
        "outputId": "01d6e50c-ec7a-4340-a34c-42ec1a808dd1",
        "colab": {
          "base_uri": "https://localhost:8080/"
        }
      },
      "execution_count": 4,
      "outputs": [
        {
          "output_type": "stream",
          "name": "stdout",
          "text": [
            "Number of X samples: 200\n",
            "Number of y samples: 200\n",
            "First 10 X & y samples:\n",
            "X: tensor([[0.0000],\n",
            "        [0.0050],\n",
            "        [0.0100],\n",
            "        [0.0150],\n",
            "        [0.0200],\n",
            "        [0.0250],\n",
            "        [0.0300],\n",
            "        [0.0350],\n",
            "        [0.0400],\n",
            "        [0.0450]])\n",
            "y: tensor([[0.9000],\n",
            "        [0.9015],\n",
            "        [0.9030],\n",
            "        [0.9045],\n",
            "        [0.9060],\n",
            "        [0.9075],\n",
            "        [0.9090],\n",
            "        [0.9105],\n",
            "        [0.9120],\n",
            "        [0.9135]])\n"
          ]
        }
      ]
    },
    {
      "cell_type": "code",
      "source": [
        "# Split the data into training and testing\n",
        "train_split = int(0.8 * len(X))\n",
        "X_train, y_train = X[:train_split], y[:train_split]\n",
        "X_test, y_test = X[train_split:], y[train_split:]\n",
        "\n",
        "len(X_train), len(y_train), len(X_test), len(y_test)\n"
      ],
      "metadata": {
        "id": "GlwtT1djkmLw",
        "outputId": "4cef2f22-4fa3-4b31-8d0d-0a90371c8597",
        "colab": {
          "base_uri": "https://localhost:8080/"
        }
      },
      "execution_count": 6,
      "outputs": [
        {
          "output_type": "execute_result",
          "data": {
            "text/plain": [
              "(160, 160, 40, 40)"
            ]
          },
          "metadata": {},
          "execution_count": 6
        }
      ]
    },
    {
      "cell_type": "code",
      "source": [
        "# Plot the training and testing data \n",
        "def plot_predictions(train_data=X_train, \n",
        "                     train_labels=y_train, \n",
        "                     test_data=X_test, \n",
        "                     test_labels=y_test, \n",
        "                     predictions=None):\n",
        "  \"\"\"\n",
        "  Plots training data, test data and compares predictions.\n",
        "  \"\"\"\n",
        "  plt.figure(figsize=(10, 7))\n",
        "\n",
        "  # Plot training data in blue\n",
        "  plt.scatter(train_data, train_labels, c=\"b\", s=4, label=\"Training data\")\n",
        "  \n",
        "  # Plot test data in green\n",
        "  plt.scatter(test_data, test_labels, c=\"g\", s=4, label=\"Testing data\")\n",
        "\n",
        "  if predictions is not None:\n",
        "    # Plot the predictions in red (predictions were made on the test data)\n",
        "    plt.scatter(test_data, predictions, c=\"r\", s=4, label=\"Predictions\")\n",
        "\n",
        "  # Show the legend\n",
        "  plt.legend(prop={\"size\": 14});\n",
        "\n",
        "plot_predictions(); \n",
        "\n"
      ],
      "metadata": {
        "id": "29iQZFNhlYJ-",
        "outputId": "e07a5158-f65f-435f-a9be-bc08cdb0f4ff",
        "colab": {
          "base_uri": "https://localhost:8080/",
          "height": 599
        }
      },
      "execution_count": 7,
      "outputs": [
        {
          "output_type": "display_data",
          "data": {
            "text/plain": [
              "<Figure size 1000x700 with 1 Axes>"
            ],
            "image/png": "[encoded data removed]"
          },
          "metadata": {}
        }
      ]
    },
    {
      "cell_type": "markdown",
      "source": [
        "## 2. Build a PyTorch model by subclassing `nn.Module`. \n",
        "  * Inside should be a randomly initialized `nn.Parameter()` with `requires_grad=True`, one for `weights` and one for `bias`. \n",
        "  * Implement the `forward()` method to compute the linear regression function you used to create the dataset in 1. \n",
        "  * Once you've constructed the model, make an instance of it and check its `state_dict()`.\n",
        "  * **Note:** If you'd like to use `nn.Linear()` instead of `nn.Parameter()` you can."
      ],
      "metadata": {
        "id": "ImZoe3v8jif8"
      }
    },
    {
      "cell_type": "code",
      "source": [
        "# Create PyTorch linear regression model by subclassing nn.Module\n",
        "class LinearRegressionModelV2(nn.Module):\n",
        "    def __init__(self):\n",
        "        super().__init__()\n",
        "        # Use nn.Linear() for creating the model parameters\n",
        "        self.linear_layer = nn.Linear(in_features=1, \n",
        "                                      out_features=1)\n",
        "    \n",
        "    # Define the forward computation (input data x flows through nn.Linear())\n",
        "    def forward(self, x: torch.Tensor) -> torch.Tensor:\n",
        "        return self.linear_layer(x)\n"
      ],
      "metadata": {
        "id": "qzd__Y5rjtB8"
      },
      "execution_count": 8,
      "outputs": []
    },
    {
      "cell_type": "code",
      "source": [
        "# Instantiate the model and put it to the target device\n",
        "torch.manual_seed(42)\n",
        "model = LinearRegressionModelV2()\n",
        "model.to(device)\n"
      ],
      "metadata": {
        "id": "5LdcDnmOmyQ2",
        "outputId": "0f831070-9ba3-4ddf-b0a0-1bf466f2073d",
        "colab": {
          "base_uri": "https://localhost:8080/"
        }
      },
      "execution_count": 9,
      "outputs": [
        {
          "output_type": "execute_result",
          "data": {
            "text/plain": [
              "LinearRegressionModelV2(\n",
              "  (linear_layer): Linear(in_features=1, out_features=1, bias=True)\n",
              ")"
            ]
          },
          "metadata": {},
          "execution_count": 9
        }
      ]
    },
    {
      "cell_type": "markdown",
      "source": [
        "## 3. Create a loss function and optimizer using `nn.L1Loss()` and `torch.optim.SGD(params, lr)` respectively. \n",
        "  * Set the learning rate of the optimizer to be 0.01 and the parameters to optimize should be the model parameters from the model you created in 2.\n",
        "  * Write a training loop to perform the appropriate training steps for 300 epochs.\n",
        "  * The training loop should test the model on the test dataset every 20 epochs."
      ],
      "metadata": {
        "id": "G6nYOrJhjtfu"
      }
    },
    {
      "cell_type": "code",
      "source": [
        "# Create the loss function and optimizer\n",
        "# Create loss function\n",
        "loss_fn = nn.L1Loss()\n",
        "\n",
        "# Create optimizer\n",
        "optimizer = torch.optim.SGD(params=model.parameters(), # optimize newly created model's parameters\n",
        "                            lr=0.01)\n"
      ],
      "metadata": {
        "id": "ltvoZ-FWjv1j"
      },
      "execution_count": 11,
      "outputs": []
    },
    {
      "cell_type": "code",
      "source": [
        "torch.manual_seed(42)\n",
        "\n",
        "# Set the number of epochs \n",
        "epochs = 300 \n",
        "\n",
        "# Put data on the available device\n",
        "# Without this, error will happen (not all model/data on device)\n",
        "X_train = X_train.to(device)\n",
        "X_test = X_test.to(device)\n",
        "y_train = y_train.to(device)\n",
        "y_test = y_test.to(device)\n",
        "\n",
        "for epoch in range(epochs):\n",
        "    ### Training\n",
        "    model.train() # train mode is on by default after construction\n",
        "\n",
        "    # 1. Forward pass\n",
        "    y_pred = model(X_train)\n",
        "\n",
        "    # 2. Calculate loss\n",
        "    loss = loss_fn(y_pred, y_train)\n",
        "\n",
        "    # 3. Zero grad optimizer\n",
        "    optimizer.zero_grad()\n",
        "\n",
        "    # 4. Loss backward\n",
        "    loss.backward()\n",
        "\n",
        "    # 5. Step the optimizer\n",
        "    optimizer.step()\n",
        "\n",
        "    ### Testing\n",
        "    model.eval() # put the model in evaluation mode for testing (inference)\n",
        "    # 1. Forward pass\n",
        "    with torch.inference_mode():\n",
        "        test_pred = model(X_test)\n",
        "    \n",
        "        # 2. Calculate the loss\n",
        "        test_loss = loss_fn(test_pred, y_test)\n",
        "\n",
        "    # Print out what's happening\n",
        "    print(f\"Epoch: {epoch} | Train loss: {loss:.3f} | Test loss: {test_loss:.3f}\")"
      ],
      "metadata": {
        "id": "xpE83NvNnkdV",
        "outputId": "8bc4e58a-1b5a-4600-a682-1547bbe91c2f",
        "colab": {
          "base_uri": "https://localhost:8080/"
        }
      },
      "execution_count": 13,
      "outputs": [
        {
          "output_type": "stream",
          "name": "stdout",
          "text": [
            "Epoch: 0 | Train loss: 0.128 | Test loss: 0.337\n",
            "Epoch: 1 | Train loss: 0.123 | Test loss: 0.328\n",
            "Epoch: 2 | Train loss: 0.119 | Test loss: 0.320\n",
            "Epoch: 3 | Train loss: 0.115 | Test loss: 0.312\n",
            "Epoch: 4 | Train loss: 0.111 | Test loss: 0.304\n",
            "Epoch: 5 | Train loss: 0.107 | Test loss: 0.296\n",
            "Epoch: 6 | Train loss: 0.104 | Test loss: 0.289\n",
            "Epoch: 7 | Train loss: 0.101 | Test loss: 0.282\n",
            "Epoch: 8 | Train loss: 0.099 | Test loss: 0.276\n",
            "Epoch: 9 | Train loss: 0.097 | Test loss: 0.269\n",
            "Epoch: 10 | Train loss: 0.095 | Test loss: 0.264\n",
            "Epoch: 11 | Train loss: 0.093 | Test loss: 0.258\n",
            "Epoch: 12 | Train loss: 0.091 | Test loss: 0.253\n",
            "Epoch: 13 | Train loss: 0.090 | Test loss: 0.248\n",
            "Epoch: 14 | Train loss: 0.088 | Test loss: 0.243\n",
            "Epoch: 15 | Train loss: 0.087 | Test loss: 0.238\n",
            "Epoch: 16 | Train loss: 0.086 | Test loss: 0.234\n",
            "Epoch: 17 | Train loss: 0.085 | Test loss: 0.230\n",
            "Epoch: 18 | Train loss: 0.084 | Test loss: 0.226\n",
            "Epoch: 19 | Train loss: 0.083 | Test loss: 0.222\n",
            "Epoch: 20 | Train loss: 0.082 | Test loss: 0.219\n",
            "Epoch: 21 | Train loss: 0.081 | Test loss: 0.215\n",
            "Epoch: 22 | Train loss: 0.080 | Test loss: 0.212\n",
            "Epoch: 23 | Train loss: 0.080 | Test loss: 0.209\n",
            "Epoch: 24 | Train loss: 0.079 | Test loss: 0.206\n",
            "Epoch: 25 | Train loss: 0.079 | Test loss: 0.204\n",
            "Epoch: 26 | Train loss: 0.078 | Test loss: 0.201\n",
            "Epoch: 27 | Train loss: 0.077 | Test loss: 0.199\n",
            "Epoch: 28 | Train loss: 0.077 | Test loss: 0.196\n",
            "Epoch: 29 | Train loss: 0.076 | Test loss: 0.194\n",
            "Epoch: 30 | Train loss: 0.076 | Test loss: 0.192\n",
            "Epoch: 31 | Train loss: 0.076 | Test loss: 0.190\n",
            "Epoch: 32 | Train loss: 0.075 | Test loss: 0.188\n",
            "Epoch: 33 | Train loss: 0.075 | Test loss: 0.186\n",
            "Epoch: 34 | Train loss: 0.074 | Test loss: 0.184\n",
            "Epoch: 35 | Train loss: 0.074 | Test loss: 0.182\n",
            "Epoch: 36 | Train loss: 0.073 | Test loss: 0.181\n",
            "Epoch: 37 | Train loss: 0.073 | Test loss: 0.179\n",
            "Epoch: 38 | Train loss: 0.073 | Test loss: 0.177\n",
            "Epoch: 39 | Train loss: 0.072 | Test loss: 0.176\n",
            "Epoch: 40 | Train loss: 0.072 | Test loss: 0.175\n",
            "Epoch: 41 | Train loss: 0.072 | Test loss: 0.173\n",
            "Epoch: 42 | Train loss: 0.071 | Test loss: 0.172\n",
            "Epoch: 43 | Train loss: 0.071 | Test loss: 0.171\n",
            "Epoch: 44 | Train loss: 0.071 | Test loss: 0.169\n",
            "Epoch: 45 | Train loss: 0.070 | Test loss: 0.168\n",
            "Epoch: 46 | Train loss: 0.070 | Test loss: 0.167\n",
            "Epoch: 47 | Train loss: 0.070 | Test loss: 0.166\n",
            "Epoch: 48 | Train loss: 0.069 | Test loss: 0.165\n",
            "Epoch: 49 | Train loss: 0.069 | Test loss: 0.163\n",
            "Epoch: 50 | Train loss: 0.068 | Test loss: 0.162\n",
            "Epoch: 51 | Train loss: 0.068 | Test loss: 0.161\n",
            "Epoch: 52 | Train loss: 0.068 | Test loss: 0.160\n",
            "Epoch: 53 | Train loss: 0.067 | Test loss: 0.159\n",
            "Epoch: 54 | Train loss: 0.067 | Test loss: 0.158\n",
            "Epoch: 55 | Train loss: 0.067 | Test loss: 0.158\n",
            "Epoch: 56 | Train loss: 0.066 | Test loss: 0.157\n",
            "Epoch: 57 | Train loss: 0.066 | Test loss: 0.156\n",
            "Epoch: 58 | Train loss: 0.066 | Test loss: 0.155\n",
            "Epoch: 59 | Train loss: 0.065 | Test loss: 0.154\n",
            "Epoch: 60 | Train loss: 0.065 | Test loss: 0.153\n",
            "Epoch: 61 | Train loss: 0.065 | Test loss: 0.152\n",
            "Epoch: 62 | Train loss: 0.064 | Test loss: 0.151\n",
            "Epoch: 63 | Train loss: 0.064 | Test loss: 0.150\n",
            "Epoch: 64 | Train loss: 0.064 | Test loss: 0.149\n",
            "Epoch: 65 | Train loss: 0.063 | Test loss: 0.148\n",
            "Epoch: 66 | Train loss: 0.063 | Test loss: 0.147\n",
            "Epoch: 67 | Train loss: 0.063 | Test loss: 0.146\n",
            "Epoch: 68 | Train loss: 0.062 | Test loss: 0.146\n",
            "Epoch: 69 | Train loss: 0.062 | Test loss: 0.145\n",
            "Epoch: 70 | Train loss: 0.062 | Test loss: 0.144\n",
            "Epoch: 71 | Train loss: 0.061 | Test loss: 0.143\n",
            "Epoch: 72 | Train loss: 0.061 | Test loss: 0.142\n",
            "Epoch: 73 | Train loss: 0.061 | Test loss: 0.142\n",
            "Epoch: 74 | Train loss: 0.060 | Test loss: 0.141\n",
            "Epoch: 75 | Train loss: 0.060 | Test loss: 0.140\n",
            "Epoch: 76 | Train loss: 0.060 | Test loss: 0.139\n",
            "Epoch: 77 | Train loss: 0.059 | Test loss: 0.138\n",
            "Epoch: 78 | Train loss: 0.059 | Test loss: 0.138\n",
            "Epoch: 79 | Train loss: 0.059 | Test loss: 0.137\n",
            "Epoch: 80 | Train loss: 0.058 | Test loss: 0.136\n",
            "Epoch: 81 | Train loss: 0.058 | Test loss: 0.135\n",
            "Epoch: 82 | Train loss: 0.057 | Test loss: 0.134\n",
            "Epoch: 83 | Train loss: 0.057 | Test loss: 0.133\n",
            "Epoch: 84 | Train loss: 0.057 | Test loss: 0.133\n",
            "Epoch: 85 | Train loss: 0.056 | Test loss: 0.132\n",
            "Epoch: 86 | Train loss: 0.056 | Test loss: 0.131\n",
            "Epoch: 87 | Train loss: 0.056 | Test loss: 0.130\n",
            "Epoch: 88 | Train loss: 0.055 | Test loss: 0.129\n",
            "Epoch: 89 | Train loss: 0.055 | Test loss: 0.129\n",
            "Epoch: 90 | Train loss: 0.055 | Test loss: 0.128\n",
            "Epoch: 91 | Train loss: 0.054 | Test loss: 0.127\n",
            "Epoch: 92 | Train loss: 0.054 | Test loss: 0.126\n",
            "Epoch: 93 | Train loss: 0.054 | Test loss: 0.125\n",
            "Epoch: 94 | Train loss: 0.053 | Test loss: 0.125\n",
            "Epoch: 95 | Train loss: 0.053 | Test loss: 0.124\n",
            "Epoch: 96 | Train loss: 0.053 | Test loss: 0.123\n",
            "Epoch: 97 | Train loss: 0.052 | Test loss: 0.122\n",
            "Epoch: 98 | Train loss: 0.052 | Test loss: 0.121\n",
            "Epoch: 99 | Train loss: 0.052 | Test loss: 0.121\n",
            "Epoch: 100 | Train loss: 0.051 | Test loss: 0.120\n",
            "Epoch: 101 | Train loss: 0.051 | Test loss: 0.119\n",
            "Epoch: 102 | Train loss: 0.051 | Test loss: 0.118\n",
            "Epoch: 103 | Train loss: 0.050 | Test loss: 0.117\n",
            "Epoch: 104 | Train loss: 0.050 | Test loss: 0.117\n",
            "Epoch: 105 | Train loss: 0.050 | Test loss: 0.116\n",
            "Epoch: 106 | Train loss: 0.049 | Test loss: 0.115\n",
            "Epoch: 107 | Train loss: 0.049 | Test loss: 0.114\n",
            "Epoch: 108 | Train loss: 0.049 | Test loss: 0.113\n",
            "Epoch: 109 | Train loss: 0.048 | Test loss: 0.113\n",
            "Epoch: 110 | Train loss: 0.048 | Test loss: 0.112\n",
            "Epoch: 111 | Train loss: 0.048 | Test loss: 0.111\n",
            "Epoch: 112 | Train loss: 0.047 | Test loss: 0.110\n",
            "Epoch: 113 | Train loss: 0.047 | Test loss: 0.109\n",
            "Epoch: 114 | Train loss: 0.047 | Test loss: 0.109\n",
            "Epoch: 115 | Train loss: 0.046 | Test loss: 0.108\n",
            "Epoch: 116 | Train loss: 0.046 | Test loss: 0.107\n",
            "Epoch: 117 | Train loss: 0.046 | Test loss: 0.106\n",
            "Epoch: 118 | Train loss: 0.045 | Test loss: 0.105\n",
            "Epoch: 119 | Train loss: 0.045 | Test loss: 0.105\n",
            "Epoch: 120 | Train loss: 0.044 | Test loss: 0.104\n",
            "Epoch: 121 | Train loss: 0.044 | Test loss: 0.103\n",
            "Epoch: 122 | Train loss: 0.044 | Test loss: 0.102\n",
            "Epoch: 123 | Train loss: 0.043 | Test loss: 0.101\n",
            "Epoch: 124 | Train loss: 0.043 | Test loss: 0.101\n",
            "Epoch: 125 | Train loss: 0.043 | Test loss: 0.100\n",
            "Epoch: 126 | Train loss: 0.042 | Test loss: 0.099\n",
            "Epoch: 127 | Train loss: 0.042 | Test loss: 0.098\n",
            "Epoch: 128 | Train loss: 0.042 | Test loss: 0.097\n",
            "Epoch: 129 | Train loss: 0.041 | Test loss: 0.097\n",
            "Epoch: 130 | Train loss: 0.041 | Test loss: 0.096\n",
            "Epoch: 131 | Train loss: 0.041 | Test loss: 0.095\n",
            "Epoch: 132 | Train loss: 0.040 | Test loss: 0.094\n",
            "Epoch: 133 | Train loss: 0.040 | Test loss: 0.093\n",
            "Epoch: 134 | Train loss: 0.040 | Test loss: 0.093\n",
            "Epoch: 135 | Train loss: 0.039 | Test loss: 0.092\n",
            "Epoch: 136 | Train loss: 0.039 | Test loss: 0.091\n",
            "Epoch: 137 | Train loss: 0.039 | Test loss: 0.090\n",
            "Epoch: 138 | Train loss: 0.038 | Test loss: 0.089\n",
            "Epoch: 139 | Train loss: 0.038 | Test loss: 0.089\n",
            "Epoch: 140 | Train loss: 0.038 | Test loss: 0.088\n",
            "Epoch: 141 | Train loss: 0.037 | Test loss: 0.087\n",
            "Epoch: 142 | Train loss: 0.037 | Test loss: 0.086\n",
            "Epoch: 143 | Train loss: 0.037 | Test loss: 0.085\n",
            "Epoch: 144 | Train loss: 0.036 | Test loss: 0.084\n",
            "Epoch: 145 | Train loss: 0.036 | Test loss: 0.084\n",
            "Epoch: 146 | Train loss: 0.036 | Test loss: 0.083\n",
            "Epoch: 147 | Train loss: 0.035 | Test loss: 0.082\n",
            "Epoch: 148 | Train loss: 0.035 | Test loss: 0.081\n",
            "Epoch: 149 | Train loss: 0.035 | Test loss: 0.080\n",
            "Epoch: 150 | Train loss: 0.034 | Test loss: 0.080\n",
            "Epoch: 151 | Train loss: 0.034 | Test loss: 0.079\n",
            "Epoch: 152 | Train loss: 0.034 | Test loss: 0.078\n",
            "Epoch: 153 | Train loss: 0.033 | Test loss: 0.077\n",
            "Epoch: 154 | Train loss: 0.033 | Test loss: 0.076\n",
            "Epoch: 155 | Train loss: 0.033 | Test loss: 0.076\n",
            "Epoch: 156 | Train loss: 0.032 | Test loss: 0.075\n",
            "Epoch: 157 | Train loss: 0.032 | Test loss: 0.074\n",
            "Epoch: 158 | Train loss: 0.031 | Test loss: 0.073\n",
            "Epoch: 159 | Train loss: 0.031 | Test loss: 0.072\n",
            "Epoch: 160 | Train loss: 0.031 | Test loss: 0.072\n",
            "Epoch: 161 | Train loss: 0.030 | Test loss: 0.071\n",
            "Epoch: 162 | Train loss: 0.030 | Test loss: 0.070\n",
            "Epoch: 163 | Train loss: 0.030 | Test loss: 0.069\n",
            "Epoch: 164 | Train loss: 0.029 | Test loss: 0.068\n",
            "Epoch: 165 | Train loss: 0.029 | Test loss: 0.068\n",
            "Epoch: 166 | Train loss: 0.029 | Test loss: 0.067\n",
            "Epoch: 167 | Train loss: 0.028 | Test loss: 0.066\n",
            "Epoch: 168 | Train loss: 0.028 | Test loss: 0.065\n",
            "Epoch: 169 | Train loss: 0.028 | Test loss: 0.064\n",
            "Epoch: 170 | Train loss: 0.027 | Test loss: 0.064\n",
            "Epoch: 171 | Train loss: 0.027 | Test loss: 0.063\n",
            "Epoch: 172 | Train loss: 0.027 | Test loss: 0.062\n",
            "Epoch: 173 | Train loss: 0.026 | Test loss: 0.061\n",
            "Epoch: 174 | Train loss: 0.026 | Test loss: 0.060\n",
            "Epoch: 175 | Train loss: 0.026 | Test loss: 0.060\n",
            "Epoch: 176 | Train loss: 0.025 | Test loss: 0.059\n",
            "Epoch: 177 | Train loss: 0.025 | Test loss: 0.058\n",
            "Epoch: 178 | Train loss: 0.025 | Test loss: 0.057\n",
            "Epoch: 179 | Train loss: 0.024 | Test loss: 0.056\n",
            "Epoch: 180 | Train loss: 0.024 | Test loss: 0.056\n",
            "Epoch: 181 | Train loss: 0.024 | Test loss: 0.055\n",
            "Epoch: 182 | Train loss: 0.023 | Test loss: 0.054\n",
            "Epoch: 183 | Train loss: 0.023 | Test loss: 0.053\n",
            "Epoch: 184 | Train loss: 0.023 | Test loss: 0.052\n",
            "Epoch: 185 | Train loss: 0.022 | Test loss: 0.052\n",
            "Epoch: 186 | Train loss: 0.022 | Test loss: 0.051\n",
            "Epoch: 187 | Train loss: 0.022 | Test loss: 0.050\n",
            "Epoch: 188 | Train loss: 0.021 | Test loss: 0.049\n",
            "Epoch: 189 | Train loss: 0.021 | Test loss: 0.048\n",
            "Epoch: 190 | Train loss: 0.021 | Test loss: 0.048\n",
            "Epoch: 191 | Train loss: 0.020 | Test loss: 0.047\n",
            "Epoch: 192 | Train loss: 0.020 | Test loss: 0.046\n",
            "Epoch: 193 | Train loss: 0.020 | Test loss: 0.045\n",
            "Epoch: 194 | Train loss: 0.019 | Test loss: 0.044\n",
            "Epoch: 195 | Train loss: 0.019 | Test loss: 0.044\n",
            "Epoch: 196 | Train loss: 0.019 | Test loss: 0.043\n",
            "Epoch: 197 | Train loss: 0.018 | Test loss: 0.042\n",
            "Epoch: 198 | Train loss: 0.018 | Test loss: 0.041\n",
            "Epoch: 199 | Train loss: 0.017 | Test loss: 0.040\n",
            "Epoch: 200 | Train loss: 0.017 | Test loss: 0.040\n",
            "Epoch: 201 | Train loss: 0.017 | Test loss: 0.039\n",
            "Epoch: 202 | Train loss: 0.016 | Test loss: 0.038\n",
            "Epoch: 203 | Train loss: 0.016 | Test loss: 0.037\n",
            "Epoch: 204 | Train loss: 0.016 | Test loss: 0.036\n",
            "Epoch: 205 | Train loss: 0.015 | Test loss: 0.035\n",
            "Epoch: 206 | Train loss: 0.015 | Test loss: 0.035\n",
            "Epoch: 207 | Train loss: 0.015 | Test loss: 0.034\n",
            "Epoch: 208 | Train loss: 0.014 | Test loss: 0.033\n",
            "Epoch: 209 | Train loss: 0.014 | Test loss: 0.032\n",
            "Epoch: 210 | Train loss: 0.014 | Test loss: 0.031\n",
            "Epoch: 211 | Train loss: 0.013 | Test loss: 0.031\n",
            "Epoch: 212 | Train loss: 0.013 | Test loss: 0.030\n",
            "Epoch: 213 | Train loss: 0.013 | Test loss: 0.029\n",
            "Epoch: 214 | Train loss: 0.012 | Test loss: 0.028\n",
            "Epoch: 215 | Train loss: 0.012 | Test loss: 0.027\n",
            "Epoch: 216 | Train loss: 0.012 | Test loss: 0.027\n",
            "Epoch: 217 | Train loss: 0.011 | Test loss: 0.026\n",
            "Epoch: 218 | Train loss: 0.011 | Test loss: 0.025\n",
            "Epoch: 219 | Train loss: 0.011 | Test loss: 0.024\n",
            "Epoch: 220 | Train loss: 0.010 | Test loss: 0.023\n",
            "Epoch: 221 | Train loss: 0.010 | Test loss: 0.023\n",
            "Epoch: 222 | Train loss: 0.010 | Test loss: 0.022\n",
            "Epoch: 223 | Train loss: 0.009 | Test loss: 0.021\n",
            "Epoch: 224 | Train loss: 0.009 | Test loss: 0.020\n",
            "Epoch: 225 | Train loss: 0.009 | Test loss: 0.019\n",
            "Epoch: 226 | Train loss: 0.008 | Test loss: 0.019\n",
            "Epoch: 227 | Train loss: 0.008 | Test loss: 0.018\n",
            "Epoch: 228 | Train loss: 0.008 | Test loss: 0.017\n",
            "Epoch: 229 | Train loss: 0.007 | Test loss: 0.016\n",
            "Epoch: 230 | Train loss: 0.007 | Test loss: 0.015\n",
            "Epoch: 231 | Train loss: 0.007 | Test loss: 0.015\n",
            "Epoch: 232 | Train loss: 0.006 | Test loss: 0.014\n",
            "Epoch: 233 | Train loss: 0.006 | Test loss: 0.013\n",
            "Epoch: 234 | Train loss: 0.006 | Test loss: 0.012\n",
            "Epoch: 235 | Train loss: 0.005 | Test loss: 0.011\n",
            "Epoch: 236 | Train loss: 0.005 | Test loss: 0.011\n",
            "Epoch: 237 | Train loss: 0.004 | Test loss: 0.010\n",
            "Epoch: 238 | Train loss: 0.004 | Test loss: 0.009\n",
            "Epoch: 239 | Train loss: 0.004 | Test loss: 0.008\n",
            "Epoch: 240 | Train loss: 0.003 | Test loss: 0.007\n",
            "Epoch: 241 | Train loss: 0.003 | Test loss: 0.007\n",
            "Epoch: 242 | Train loss: 0.003 | Test loss: 0.006\n",
            "Epoch: 243 | Train loss: 0.002 | Test loss: 0.005\n",
            "Epoch: 244 | Train loss: 0.002 | Test loss: 0.004\n",
            "Epoch: 245 | Train loss: 0.002 | Test loss: 0.003\n",
            "Epoch: 246 | Train loss: 0.001 | Test loss: 0.003\n",
            "Epoch: 247 | Train loss: 0.001 | Test loss: 0.001\n",
            "Epoch: 248 | Train loss: 0.003 | Test loss: 0.012\n",
            "Epoch: 249 | Train loss: 0.009 | Test loss: 0.001\n",
            "Epoch: 250 | Train loss: 0.003 | Test loss: 0.012\n",
            "Epoch: 251 | Train loss: 0.009 | Test loss: 0.001\n",
            "Epoch: 252 | Train loss: 0.003 | Test loss: 0.012\n",
            "Epoch: 253 | Train loss: 0.009 | Test loss: 0.001\n",
            "Epoch: 254 | Train loss: 0.003 | Test loss: 0.012\n",
            "Epoch: 255 | Train loss: 0.009 | Test loss: 0.001\n",
            "Epoch: 256 | Train loss: 0.003 | Test loss: 0.012\n",
            "Epoch: 257 | Train loss: 0.009 | Test loss: 0.001\n",
            "Epoch: 258 | Train loss: 0.003 | Test loss: 0.012\n",
            "Epoch: 259 | Train loss: 0.009 | Test loss: 0.001\n",
            "Epoch: 260 | Train loss: 0.003 | Test loss: 0.012\n",
            "Epoch: 261 | Train loss: 0.009 | Test loss: 0.001\n",
            "Epoch: 262 | Train loss: 0.003 | Test loss: 0.012\n",
            "Epoch: 263 | Train loss: 0.009 | Test loss: 0.001\n",
            "Epoch: 264 | Train loss: 0.003 | Test loss: 0.012\n",
            "Epoch: 265 | Train loss: 0.009 | Test loss: 0.001\n",
            "Epoch: 266 | Train loss: 0.003 | Test loss: 0.012\n",
            "Epoch: 267 | Train loss: 0.009 | Test loss: 0.001\n",
            "Epoch: 268 | Train loss: 0.003 | Test loss: 0.012\n",
            "Epoch: 269 | Train loss: 0.009 | Test loss: 0.001\n",
            "Epoch: 270 | Train loss: 0.003 | Test loss: 0.012\n",
            "Epoch: 271 | Train loss: 0.009 | Test loss: 0.001\n",
            "Epoch: 272 | Train loss: 0.003 | Test loss: 0.012\n",
            "Epoch: 273 | Train loss: 0.009 | Test loss: 0.001\n",
            "Epoch: 274 | Train loss: 0.003 | Test loss: 0.012\n",
            "Epoch: 275 | Train loss: 0.009 | Test loss: 0.001\n",
            "Epoch: 276 | Train loss: 0.003 | Test loss: 0.012\n",
            "Epoch: 277 | Train loss: 0.009 | Test loss: 0.001\n",
            "Epoch: 278 | Train loss: 0.003 | Test loss: 0.012\n",
            "Epoch: 279 | Train loss: 0.009 | Test loss: 0.001\n",
            "Epoch: 280 | Train loss: 0.003 | Test loss: 0.012\n",
            "Epoch: 281 | Train loss: 0.009 | Test loss: 0.001\n",
            "Epoch: 282 | Train loss: 0.003 | Test loss: 0.012\n",
            "Epoch: 283 | Train loss: 0.009 | Test loss: 0.001\n",
            "Epoch: 284 | Train loss: 0.003 | Test loss: 0.012\n",
            "Epoch: 285 | Train loss: 0.009 | Test loss: 0.001\n",
            "Epoch: 286 | Train loss: 0.003 | Test loss: 0.012\n",
            "Epoch: 287 | Train loss: 0.009 | Test loss: 0.001\n",
            "Epoch: 288 | Train loss: 0.003 | Test loss: 0.012\n",
            "Epoch: 289 | Train loss: 0.009 | Test loss: 0.001\n",
            "Epoch: 290 | Train loss: 0.003 | Test loss: 0.012\n",
            "Epoch: 291 | Train loss: 0.009 | Test loss: 0.001\n",
            "Epoch: 292 | Train loss: 0.003 | Test loss: 0.012\n",
            "Epoch: 293 | Train loss: 0.009 | Test loss: 0.001\n",
            "Epoch: 294 | Train loss: 0.003 | Test loss: 0.012\n",
            "Epoch: 295 | Train loss: 0.009 | Test loss: 0.001\n",
            "Epoch: 296 | Train loss: 0.003 | Test loss: 0.012\n",
            "Epoch: 297 | Train loss: 0.009 | Test loss: 0.001\n",
            "Epoch: 298 | Train loss: 0.003 | Test loss: 0.012\n",
            "Epoch: 299 | Train loss: 0.009 | Test loss: 0.001\n"
          ]
        }
      ]
    },
    {
      "cell_type": "markdown",
      "source": [
        "## 4. Make predictions with the trained model on the test data.\n",
        "  * Visualize these predictions against the original training and testing data (**note:** you may need to make sure the predictions are *not* on the GPU if you want to use non-CUDA-enabled libraries such as matplotlib to plot)."
      ],
      "metadata": {
        "id": "x4j4TM18jwa7"
      }
    },
    {
      "cell_type": "code",
      "source": [
        "# Make predictions with the model\n",
        "# Turn model into evaluation mode\n",
        "model.eval()\n",
        "\n",
        "# Make predictions on the test data\n",
        "with torch.inference_mode():\n",
        "    y_preds = model(X_test)\n",
        "y_preds\n"
      ],
      "metadata": {
        "id": "bbMPK5Qjjyx_",
        "outputId": "f726676c-f336-4e43-a81c-f51fba87a81f",
        "colab": {
          "base_uri": "https://localhost:8080/"
        }
      },
      "execution_count": 14,
      "outputs": [
        {
          "output_type": "execute_result",
          "data": {
            "text/plain": [
              "tensor([[1.1385],\n",
              "        [1.1400],\n",
              "        [1.1415],\n",
              "        [1.1430],\n",
              "        [1.1445],\n",
              "        [1.1461],\n",
              "        [1.1476],\n",
              "        [1.1491],\n",
              "        [1.1506],\n",
              "        [1.1521],\n",
              "        [1.1536],\n",
              "        [1.1551],\n",
              "        [1.1567],\n",
              "        [1.1582],\n",
              "        [1.1597],\n",
              "        [1.1612],\n",
              "        [1.1627],\n",
              "        [1.1642],\n",
              "        [1.1657],\n",
              "        [1.1672],\n",
              "        [1.1688],\n",
              "        [1.1703],\n",
              "        [1.1718],\n",
              "        [1.1733],\n",
              "        [1.1748],\n",
              "        [1.1763],\n",
              "        [1.1778],\n",
              "        [1.1794],\n",
              "        [1.1809],\n",
              "        [1.1824],\n",
              "        [1.1839],\n",
              "        [1.1854],\n",
              "        [1.1869],\n",
              "        [1.1884],\n",
              "        [1.1900],\n",
              "        [1.1915],\n",
              "        [1.1930],\n",
              "        [1.1945],\n",
              "        [1.1960],\n",
              "        [1.1975]], device='cuda:0')"
            ]
          },
          "metadata": {},
          "execution_count": 14
        }
      ]
    },
    {
      "cell_type": "code",
      "source": [
        "# Plot the predictions (these may need to be on a specific device)\n",
        "plot_predictions(predictions=y_preds.cpu())"
      ],
      "metadata": {
        "id": "K3BdmQaDpFo8",
        "outputId": "1d2a6dd5-e3b2-483c-cf71-321b37f73054",
        "colab": {
          "base_uri": "https://localhost:8080/",
          "height": 599
        }
      },
      "execution_count": 15,
      "outputs": [
        {
          "output_type": "display_data",
          "data": {
            "text/plain": [
              "<Figure size 1000x700 with 1 Axes>"
            ],
            "image/png": "[encoded data removed]"
          },
          "metadata": {}
        }
      ]
    },
    {
      "cell_type": "markdown",
      "source": [
        "## 5. Save your trained model's `state_dict()` to file.\n",
        "  * Create a new instance of your model class you made in 2. and load in the `state_dict()` you just saved to it.\n",
        "  * Perform predictions on your test data with the loaded model and confirm they match the original model predictions from 4."
      ],
      "metadata": {
        "id": "s2OnlMWKjzX8"
      }
    },
    {
      "cell_type": "code",
      "source": [
        "from pathlib import Path\n",
        "\n",
        "# 1. Create models directory \n",
        "MODEL_PATH = Path(\"models\")\n",
        "MODEL_PATH.mkdir(parents=True, exist_ok=True)\n",
        "\n",
        "# 2. Create model save path \n",
        "MODEL_NAME = \"01_pytorch_hwk_model_1.pth\"\n",
        "MODEL_SAVE_PATH = MODEL_PATH / MODEL_NAME\n",
        "\n",
        "# 3. Save the model state dict \n",
        "print(f\"Saving model to: {MODEL_SAVE_PATH}\")\n",
        "torch.save(obj=model.state_dict(), # only saving the state_dict() only saves the models learned parameters\n",
        "           f=MODEL_SAVE_PATH) "
      ],
      "metadata": {
        "id": "hgxhgD14qr-i",
        "outputId": "45e58a5d-18f0-44bc-ce35-670c4231fc24",
        "colab": {
          "base_uri": "https://localhost:8080/"
        }
      },
      "execution_count": 16,
      "outputs": [
        {
          "output_type": "stream",
          "name": "stdout",
          "text": [
            "Saving model to: models/01_pytorch_hwk_model_1.pth\n"
          ]
        }
      ]
    },
    {
      "cell_type": "code",
      "source": [
        "# Create new instance of model and load saved state dict (make sure to put it on the target device)\n",
        "loaded_model_1 = LinearRegressionModelV2()\n",
        "\n",
        "# Load model state dict \n",
        "loaded_model_1.load_state_dict(torch.load(MODEL_SAVE_PATH))\n",
        "\n",
        "# Put model to target device (if your data is on GPU, model will have to be on GPU to make predictions)\n",
        "loaded_model_1.to(device)\n",
        "\n",
        "print(f\"Loaded model:\\n{loaded_model_1}\")\n",
        "print(f\"Model on device:\\n{next(loaded_model_1.parameters()).device}\")\n"
      ],
      "metadata": {
        "id": "P9vTgiLRrJ7T",
        "outputId": "e5f1d000-6084-4eae-9f49-b35d6e0840e0",
        "colab": {
          "base_uri": "https://localhost:8080/"
        }
      },
      "execution_count": 17,
      "outputs": [
        {
          "output_type": "stream",
          "name": "stdout",
          "text": [
            "Loaded model:\n",
            "LinearRegressionModelV2(\n",
            "  (linear_layer): Linear(in_features=1, out_features=1, bias=True)\n",
            ")\n",
            "Model on device:\n",
            "cuda:0\n"
          ]
        }
      ]
    },
    {
      "cell_type": "code",
      "source": [
        "# Make predictions with loaded model and compare them to the previous\n",
        "loaded_model_1.eval()\n",
        "with torch.inference_mode():\n",
        "    loaded_model_1_preds = loaded_model_1(X_test)\n",
        "y_preds == loaded_model_1_preds\n"
      ],
      "metadata": {
        "id": "8UGX3VebrVtI",
        "outputId": "79d343ec-fa0f-4adb-ed4e-dc84aedd30a2",
        "colab": {
          "base_uri": "https://localhost:8080/"
        }
      },
      "execution_count": 18,
      "outputs": [
        {
          "output_type": "execute_result",
          "data": {
            "text/plain": [
              "tensor([[True],\n",
              "        [True],\n",
              "        [True],\n",
              "        [True],\n",
              "        [True],\n",
              "        [True],\n",
              "        [True],\n",
              "        [True],\n",
              "        [True],\n",
              "        [True],\n",
              "        [True],\n",
              "        [True],\n",
              "        [True],\n",
              "        [True],\n",
              "        [True],\n",
              "        [True],\n",
              "        [True],\n",
              "        [True],\n",
              "        [True],\n",
              "        [True],\n",
              "        [True],\n",
              "        [True],\n",
              "        [True],\n",
              "        [True],\n",
              "        [True],\n",
              "        [True],\n",
              "        [True],\n",
              "        [True],\n",
              "        [True],\n",
              "        [True],\n",
              "        [True],\n",
              "        [True],\n",
              "        [True],\n",
              "        [True],\n",
              "        [True],\n",
              "        [True],\n",
              "        [True],\n",
              "        [True],\n",
              "        [True],\n",
              "        [True]], device='cuda:0')"
            ]
          },
          "metadata": {},
          "execution_count": 18
        }
      ]
    }
  ]
}